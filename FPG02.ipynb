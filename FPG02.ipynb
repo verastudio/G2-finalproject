{
  "nbformat": 4,
  "nbformat_minor": 0,
  "metadata": {
    "colab": {
      "private_outputs": true,
      "provenance": [],
      "authorship_tag": "ABX9TyOYs6Fo/AgXEylKW9NQm0Un",
      "include_colab_link": true
    },
    "kernelspec": {
      "name": "python3",
      "display_name": "Python 3"
    },
    "language_info": {
      "name": "python"
    }
  },
  "cells": [
    {
      "cell_type": "markdown",
      "metadata": {
        "id": "view-in-github",
        "colab_type": "text"
      },
      "source": [
        "<a href=\"https://colab.research.google.com/github/verastudio/G2-finalproject/blob/main/FPG02.ipynb\" target=\"_parent\"><img src=\"https://colab.research.google.com/assets/colab-badge.svg\" alt=\"Open In Colab\"/></a>"
      ]
    },
    {
      "cell_type": "markdown",
      "source": [
        "# 🌱**Group 2 Final Project (6/18)**\n",
        "\n",
        "+ Reading material: 💾 [text link](https://raw.githubusercontent.com/verastudio/verastudio/main/story04.txt))\n",
        "\n",
        "## Learning objectives:\n",
+ Students will be able to extract and identify keywords from listening passages.
+ Students will be able to reconstruct story sequences based on audio prompts.
+ Students will be able to describe reconstructed story images using keywords.
+ Students will be able to write thank-you letters using learned phrases.
      ],
      "metadata": {
        "id": "3EGZDlOvWSAf"
      }
    },
    {
      "cell_type": "code",
      "execution_count": null,
      "metadata": {
        "id": "jSEVjcU0WRWy"
      },
      "outputs": [],
      "source": []
    }
  ]
}
