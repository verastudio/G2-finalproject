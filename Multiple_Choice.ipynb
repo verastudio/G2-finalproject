{
  "nbformat": 4,
  "nbformat_minor": 0,
  "metadata": {
    "colab": {
      "provenance": [],
      "authorship_tag": "ABX9TyPV+ItD3Xz91/6C2plTWiPm",
      "include_colab_link": true
    },
    "kernelspec": {
      "name": "python3",
      "display_name": "Python 3"
    },
    "language_info": {
      "name": "python"
    }
  },
  "cells": [
    {
      "cell_type": "markdown",
      "metadata": {
        "id": "view-in-github",
        "colab_type": "text"
      },
      "source": [
        "<a href=\"https://colab.research.google.com/github/verastudio/G2-finalproject/blob/main/Multiple_Choice.ipynb\" target=\"_parent\"><img src=\"https://colab.research.google.com/assets/colab-badge.svg\" alt=\"Open In Colab\"/></a>"
      ]
    },
    {
      "cell_type": "code",
      "execution_count": null,
      "metadata": {
        "colab": {
          "base_uri": "https://localhost:8080/"
        },
        "id": "IT189WZ-Wi3X",
        "outputId": "9aea8543-cc82-49d1-dde8-c5eb7e86b913"
      },
      "outputs": [
        {
          "output_type": "stream",
          "name": "stdout",
          "text": [
            "1. Where is Mr. Elias's name placed in the letter?\n",
            "a) At the beginning\n",
            "b) In the subject line\n",
            "c) In the body of the email\n",
            "d) At the end\n"
          ]
        }
      ],
      "source": [
        "class Question:\n",
        "    def __init__(self, prompt, options, answer):\n",
        "        self.prompt = prompt\n",
        "        self.options = options\n",
        "        self.answer = answer\n",
        "\n",
        "questions = [\n",
        "    Question(\n",
        "        \"1. Where is Mr. Elias's name placed in the letter?\",\n",
        "        [\"a) At the beginning\", \"b) In the subject line\", \"c) In the body of the email\", \"d) At the end\"],\n",
        "        \"d\"\n",
        "    ),\n",
        "    Question(\n",
        "        \"2. What phrase does Mr. Elias use to start the letter?\",\n",
        "        [\"a) ear\", \"b) Bear\", \"c) Dear\", \"d) Clear\"],\n",
        "        \"c\"\n",
        "    ),\n",
        "    Question(\n",
        "        \"4. What phrase does Mr. Elias use just before his name to close the letter?\",\n",
        "        [\"a) Best Regard,\", \"b) Best Regad,\", \"c) Best Regarden,\", \"d) Best regards,\"],\n",
        "        \"c\"\n",
        "    ),\n",
        "    Question(\n",
        "        \"5. What is the purpose of the introductory sentence in Mr. Elias's letter?\",\n",
        "        [\"a) To introduce the topic or reason for writing\", \"b) To say goodbye\", \"c) To list the attachments\", \"d) To ask a question\"],\n",
        "        \"a\"\n",
        "    ),\n",
        "    Question(\n",
        "        \"6. Which of the following sentences is an appropriate introduction for a thank-you letter?\",\n",
        "        [\"a) I am writing to express my sincere gratitude for your kindness.\", \"b) Did you see the game last night?\", \"c) Where did you buy your new car?\", \"d) I need to borrow some money.\"],\n",
        "        \"a\"\n",
        "    ),\n",
        "    Question(\n",
        "        \"7. What part of an email usually contains the main message or content?\",\n",
        "        [\"a) The subject line\", \"b) The introduction\", \"c) The body\", \"d) The closing\"],\n",
        "        \"c\"\n",
        "    ),\n",
        "    Question(\n",
        "        \"8. Which phrase is suitable for closing an email on a positive note?\",\n",
        "        [\"a) I hope this message finds you well,\", \"b) Thank you for your attention,\", \"c) I am looking forward to your response,\", \"d) See you soon,\"],\n",
        "        \"c\"\n",
        "    ),\n",
        "    Question(\n",
        "        \"9. Which of the following sentences has a different location in an email?\",\n",
        "        [\"a) I am writing to express my sincere gratitude for your kindness.\", \"b) I hope this message finds you well.\", \"c) I am delighted to congratulate you on your recent achievement.\", \"d) Thank you for your attention.\"],\n",
        "        \"d\"\n",
        "    ),\n",
        "    Question(\n",
        "        \"10. Which of the following sentences has a different location in an email?\",\n",
        "        [\"a) I am excited to share some good news with you.\", \"b) I hope you are doing well.\", \"c) I wanted to reach out and discuss our upcoming project.\", \"d) Looking forward to hearing from you.\"],\n",
        "        \"d\"\n",
        "    )\n",
        "]\n",
        "\n",
        "def run_quiz(questions):\n",
        "    score = 0\n",
        "    for question in questions:\n",
        "        print(question.prompt)\n",
        "        for option in question.options:\n",
        "            print(option)\n",
        "        answer = input(\"Enter the correct option (a, b, c, or d): \").lower()\n",
        "        if answer == question.answer:\n",
        "            print(\"Correct!\")\n",
        "            score += 1\n",
        "        else:\n",
        "            print(\"Incorrect. Try again.\")\n",
        "            retry_answer = input(\"Enter the correct option (a, b, c, or d): \").lower()\n",
        "            if retry_answer == question.answer:\n",
        "                print(\"Correct!\")\n",
        "                score += 1\n",
        "            else:\n",
        "                print(f\"Still incorrect. The correct answer is '{question.answer}'.\")\n",
        "    print(f\"You got {score} out of {len(questions)} correct.\")\n",
        "\n",
        "if __name__ == \"__main__\":\n",
        "    run_quiz(questions)"
      ]
    }
  ]
}