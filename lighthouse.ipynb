{
  "nbformat": 4,
  "nbformat_minor": 0,
  "metadata": {
    "colab": {
      "provenance": [],
      "authorship_tag": "ABX9TyMMupZGlCBkNUS2UhqDyOlR",
      "include_colab_link": true
    },
    "kernelspec": {
      "name": "python3",
      "display_name": "Python 3"
    },
    "language_info": {
      "name": "python"
    }
  },
  "cells": [
    {
      "cell_type": "markdown",
      "metadata": {
        "id": "view-in-github",
        "colab_type": "text"
      },
      "source": [
        "<a href=\"https://colab.research.google.com/github/mins2024/sample-for-test/blob/main/lighthouse.ipynb\" target=\"_parent\"><img src=\"https://colab.research.google.com/assets/colab-badge.svg\" alt=\"Open In Colab\"/></a>"
      ]
    },
    {
      "cell_type": "code",
      "execution_count": null,
      "metadata": {
        "id": "qkhybYnh1UTr"
      },
      "outputs": [],
      "source": [
        "class Question:\n",
        "    def __init__(self, prompt, options, answer):\n",
        "        self.prompt = prompt\n",
        "        self.options = options\n",
        "        self.answer = answer\n",
        "\n",
        "questions = [\n",
        "    Question(\n",
        "        \"1. What role does Mr. Elias fulfill at the lighthouse?\",\n",
        "        [\"A. Lighthouse keeper\", \"B. Ship captain\", \"C. Sailor\", \"D. Fisherman\"],\n",
        "        \"A\"\n",
        "    ),\n",
        "    Question(\n",
        "        \"2. What does Mr. Elias believe the lighthouse symbolizes?\",\n",
        "        [\"A. Adventure and exploration\", \"B. Safety, perseverance, and tradition\", \"C. Innovation and technology\", \"D. Wealth and prosperity\"],\n",
        "        \"B\"\n",
        "    ),\n",
        "    Question(\n",
        "        \"3. Who is Jamie in the context of the letter?\",\n",
        "        [\"A. Mr. Elias's son\", \"B. A fellow sailor\", \"C. Mr. Elias's grandson\", \"D. A neighbor\"],\n",
        "        \"C\"\n",
        "    ),\n",
        "    Question(\n",
        "        \"4. What lesson does Mr. Elias hope the reader will carry with them?\",\n",
        "        [\"A. The importance of wealth\", \"B. The significance of adventure\", \"C. The value of perseverance and commitment\", \"D. The necessity of competition\"],\n",
        "        \"C\"\n",
        "    ),\n",
        "    Question(\n",
        "        \"5. How does Mr. Elias feel about the recognition he received from the letter writer?\",\n",
        "        [\"A. Indifferent\", \"B. Annoyed\", \"C. Deeply touched\", \"D. Disappointed\"],\n",
        "        \"C\"\n",
        "    ),\n",
        "    Question(\n",
        "        \"6. What motivates Mr. Elias to continue his work at the lighthouse?\",\n",
        "        [\"A. Financial reward\", \"B. The support and appreciation from others\", \"C. A desire for adventure\", \"D. A wish to travel the world\"],\n",
        "        \"B\"\n",
        "    ),\n",
        "    Question(\n",
        "        \"7. What has Jamie learned from Mr. Elias?\",\n",
        "        [\"A. The importance of wealth\", \"B. The importance of hard work and dedication\", \"C. How to sail a ship\", \"D. How to fish\"],\n",
        "        \"B\"\n",
        "    ),\n",
        "    Question(\n",
        "        \"8. What does Mr. Elias mention as making him stronger and more resilient?\",\n",
        "        [\"A. The beautiful views from the lighthouse\", \"B. The storms and challenges faced\", \"C. The solitude of the lighthouse\", \"D. The financial rewards of his job\"],\n",
        "        \"B\"\n",
        "    ),\n",
        "    Question(\n",
        "        \"9. How does Mr. Elias view the lighthouse’s future with the community’s support?\",\n",
        "        [\"A. It will become obsolete\", \"B. It will remain a beacon of hope and safety\", \"C. It will be turned into a museum\", \"D. It will be replaced by modern technology\"],\n",
        "        \"B\"\n",
        "    ),\n",
        "    Question(\n",
        "        \"10. Why does Mr. Elias express gratitude towards the letter writer?\",\n",
        "        [\"A. For visiting the lighthouse\", \"B. For their heartfelt message and support\", \"C. For teaching Jamie\", \"D. For donating to the lighthouse fund\"],\n",
        "        \"B\"\n",
        "    )\n",
        "]\n",
        "\n",
        "def run_quiz(questions):\n",
        "    score = 0\n",
        "    for question in questions:\n",
        "        print(question.prompt)\n",
        "        for option in question.options:\n",
        "            print(option)\n",
        "        answer = input(\"Enter the correct option (A, B, C, or D): \").upper()\n",
        "        if answer == question.answer:\n",
        "            score += 1\n",
        "    print(f\"You got {score} out of {len(questions)} correct.\")\n",
        "\n",
        "if __name__ == \"__main__\":\n",
        "    run_quiz(questions)\n"
      ]
    }
  ]
}