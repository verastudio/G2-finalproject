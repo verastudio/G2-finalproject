🌱Group 1 Final Project (6/11)
Reading material: 💾 text link
👩🏼‍🏫👩🏼‍🏫👩🏼‍🏫 Learning objectives:
objective 1: By the end of the class, Ss will be able to listen for specific information in a story.
objective 2: By the end of the class, Ss will be able to identify new vocabulary and its meaning.
objective 3: By the end of the class, Ss will be able to generate an image using their own descriptive words.
